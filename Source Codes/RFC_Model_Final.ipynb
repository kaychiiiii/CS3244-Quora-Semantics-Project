{
 "cells": [
  {
   "cell_type": "code",
   "execution_count": 36,
   "id": "c20db4f2",
   "metadata": {},
   "outputs": [],
   "source": [
    "import pandas as pd"
   ]
  },
  {
   "cell_type": "code",
   "execution_count": 37,
   "id": "f714a359",
   "metadata": {},
   "outputs": [],
   "source": [
    "data = pd.read_csv(\"/Users/admin/Downloads/train_set_2.csv\")"
   ]
  },
  {
   "cell_type": "code",
   "execution_count": 38,
   "id": "cbf74d55",
   "metadata": {},
   "outputs": [],
   "source": [
    "cols = [0,1,2,3,4,5,6]\n",
    "X = data.drop(data.columns[cols],axis=1)\n",
    "y = data['is_duplicate']"
   ]
  },
  {
   "cell_type": "code",
   "execution_count": 51,
   "id": "91924aae",
   "metadata": {},
   "outputs": [
    {
     "name": "stdout",
     "output_type": "stream",
     "text": [
      "Model accuracy score with 10 decision-trees : 0.7113\n"
     ]
    }
   ],
   "source": [
    "# import Random Forest classifier, Undersampler, train_test_split\n",
    "from sklearn.ensemble import RandomForestClassifier\n",
    "from imblearn.under_sampling import RandomUnderSampler\n",
    "from sklearn.model_selection import train_test_split\n",
    "\n",
    "#Train_Test_Split\n",
    "X_train, X_test, y_train, y_test = train_test_split(X, y, test_size = 0.2, random_state = 42)\n",
    "\n",
    "#Undersample of train set --> Skewed dataset\n",
    "undersample = RandomUnderSampler(sampling_strategy='majority')\n",
    "X_under, y_under = undersample.fit_resample(X_train, y_train)\n",
    "\n",
    "#RFC Object \n",
    "rfc = RandomForestClassifier(random_state=0, n_estimators= 200, max_depth = 12)\n",
    "\n",
    "#Fit the RFC models\n",
    "rfc.fit(X_under, y_under)\n",
    "\n",
    "\n",
    "# Predict the Test set results\n",
    "y_pred = rfc.predict(X_test)\n",
    "\n",
    "\n",
    "# Check accuracy score \n",
    "from sklearn.metrics import accuracy_score\n",
    "\n",
    "print('Model accuracy score with 10 decision-trees : {0:0.4f}'. format(accuracy_score(y_test, y_pred)))\n"
   ]
  },
  {
   "cell_type": "code",
   "execution_count": 52,
   "id": "16590e09",
   "metadata": {},
   "outputs": [
    {
     "name": "stdout",
     "output_type": "stream",
     "text": [
      "              precision    recall  f1-score   support\n",
      "\n",
      "           0       0.91      0.60      0.73     51156\n",
      "           1       0.57      0.90      0.70     29698\n",
      "\n",
      "    accuracy                           0.71     80854\n",
      "   macro avg       0.74      0.75      0.71     80854\n",
      "weighted avg       0.79      0.71      0.71     80854\n",
      "\n"
     ]
    }
   ],
   "source": [
    "from sklearn.metrics import classification_report\n",
    "\n",
    "print(classification_report(y_test, y_pred))"
   ]
  },
  {
   "cell_type": "code",
   "execution_count": null,
   "id": "d49ac53d",
   "metadata": {},
   "outputs": [],
   "source": []
  }
 ],
 "metadata": {
  "kernelspec": {
   "display_name": "Python 3",
   "language": "python",
   "name": "python3"
  },
  "language_info": {
   "codemirror_mode": {
    "name": "ipython",
    "version": 3
   },
   "file_extension": ".py",
   "mimetype": "text/x-python",
   "name": "python",
   "nbconvert_exporter": "python",
   "pygments_lexer": "ipython3",
   "version": "3.8.6"
  }
 },
 "nbformat": 4,
 "nbformat_minor": 5
}
