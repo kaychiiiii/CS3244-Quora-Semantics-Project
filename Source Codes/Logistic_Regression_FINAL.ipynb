{
 "cells": [
  {
   "cell_type": "markdown",
   "metadata": {
    "id": "tI7KDApBzlJq"
   },
   "source": [
    "## Summary\n",
    "- Accuracy only about 0.68, even after resampling or tuning with hyperparameters\n",
    "- Possibly due to the uneven distribution of data with about 60% class 0 and 40% class 1\n",
    "- CV scores quite consistent, meaning that we are not overfitting or underfitting\n",
    "- Target label has no or little correlation with the features\n",
    "https://towardsdatascience.com/when-logistic-regression-simply-doesnt-work-8cd8f2f9d997"
   ]
  },
  {
   "cell_type": "code",
   "execution_count": 30,
   "metadata": {
    "id": "l9zNQDYcdnmA"
   },
   "outputs": [],
   "source": [
    "import pandas as pd\n",
    "import numpy as np\n",
    "\n",
    "import seaborn as sns\n",
    "import matplotlib.pyplot as plt \n",
    "\n",
    "from sklearn.model_selection import train_test_split\n",
    "from sklearn.linear_model import LogisticRegression\n",
    "from sklearn import metrics\n",
    "from sklearn.metrics import f1_score, accuracy_score, precision_score, recall_score, confusion_matrix, mean_squared_error, classification_report\n",
    "\n",
    "from collections import Counter\n",
    "from imblearn.under_sampling import RandomUnderSampler\n",
    "\n",
    "from sklearn.model_selection import cross_val_score\n",
    "from numpy import mean\n",
    "\n",
    "from sklearn import preprocessing\n",
    "\n",
    "from sklearn.model_selection import RepeatedStratifiedKFold\n",
    "from sklearn.model_selection import GridSearchCV\n",
    "from sklearn.model_selection import RandomizedSearchCV\n",
    "\n",
    "from sklearn.feature_selection import RFE"
   ]
  },
  {
   "cell_type": "markdown",
   "metadata": {
    "id": "G1M2xwxgkQHJ"
   },
   "source": [
    "## Setting Up"
   ]
  },
  {
   "cell_type": "code",
   "execution_count": 2,
   "metadata": {
    "id": "AkZ3W0KIdX6O"
   },
   "outputs": [],
   "source": [
    "train_set = pd.read_csv('train_set_with_features.csv')"
   ]
  },
  {
   "cell_type": "code",
   "execution_count": null,
   "metadata": {
    "id": "TkfGnFk2d1pQ"
   },
   "outputs": [],
   "source": [
    "kc_train = train_set.sample(5000) # For logistic regression on 5000 data"
   ]
  },
  {
   "cell_type": "code",
   "execution_count": null,
   "metadata": {
    "colab": {
     "base_uri": "https://localhost:8080/"
    },
    "id": "rm2BHGJFtbzE",
    "outputId": "199f2850-f137-454c-e9c4-f5ec422ae14a"
   },
   "outputs": [
    {
     "data": {
      "text/plain": [
       "Index(['Unnamed: 0', 'id', 'qid1', 'qid2', 'question1', 'question2',\n",
       "       'is_duplicate', 'common_words_ratio', 'common_tokens_ratio',\n",
       "       'fuzz_partial_ratio', 'min_longest_substring', 'unique_words_count',\n",
       "       'common_token_ratio_min', 'fuzz_ratio', 'abs_len_difference',\n",
       "       'common_stop_words_min', 'common_nouns_min', 'mean_len',\n",
       "       'common_stop_words_max', 'common_nouns_max', 'ratio_len_qn',\n",
       "       'common_word_ratio_max', 'common_adjectives_max',\n",
       "       'fuzz_token_set_ratio', 'common_words_ratio_min',\n",
       "       'common_adjectives_min', 'fuzz_token_sort_ratio',\n",
       "       'max_longest_substring'],\n",
       "      dtype='object')"
      ]
     },
     "execution_count": 7,
     "metadata": {},
     "output_type": "execute_result"
    }
   ],
   "source": [
    "kc_train.columns"
   ]
  },
  {
   "cell_type": "code",
   "execution_count": null,
   "metadata": {
    "id": "AUfw42_Yd6yc"
   },
   "outputs": [],
   "source": [
    "kc_train = kc_train.drop(columns = ['Unnamed: 0', 'id', 'qid1', 'qid2'], axis = 1)"
   ]
  },
  {
   "cell_type": "code",
   "execution_count": null,
   "metadata": {
    "colab": {
     "base_uri": "https://localhost:8080/"
    },
    "id": "ck_I9VFPeHpf",
    "outputId": "9519a01e-7c05-49df-cda5-da6e9a5418a7"
   },
   "outputs": [
    {
     "name": "stdout",
     "output_type": "stream",
     "text": [
      "<class 'pandas.core.frame.DataFrame'>\n",
      "Int64Index: 5000 entries, 58907 to 201806\n",
      "Data columns (total 24 columns):\n",
      " #   Column                  Non-Null Count  Dtype  \n",
      "---  ------                  --------------  -----  \n",
      " 0   question1               5000 non-null   object \n",
      " 1   question2               5000 non-null   object \n",
      " 2   is_duplicate            5000 non-null   int64  \n",
      " 3   common_words_ratio      5000 non-null   float64\n",
      " 4   common_tokens_ratio     5000 non-null   float64\n",
      " 5   fuzz_partial_ratio      5000 non-null   int64  \n",
      " 6   min_longest_substring   5000 non-null   float64\n",
      " 7   unique_words_count      5000 non-null   int64  \n",
      " 8   common_token_ratio_min  5000 non-null   float64\n",
      " 9   fuzz_ratio              5000 non-null   int64  \n",
      " 10  abs_len_difference      5000 non-null   int64  \n",
      " 11  common_stop_words_min   5000 non-null   float64\n",
      " 12  common_nouns_min        5000 non-null   float64\n",
      " 13  mean_len                5000 non-null   float64\n",
      " 14  common_stop_words_max   5000 non-null   float64\n",
      " 15  common_nouns_max        5000 non-null   float64\n",
      " 16  ratio_len_qn            5000 non-null   float64\n",
      " 17  common_word_ratio_max   5000 non-null   float64\n",
      " 18  common_adjectives_max   5000 non-null   float64\n",
      " 19  fuzz_token_set_ratio    5000 non-null   int64  \n",
      " 20  common_words_ratio_min  5000 non-null   float64\n",
      " 21  common_adjectives_min   5000 non-null   float64\n",
      " 22  fuzz_token_sort_ratio   5000 non-null   int64  \n",
      " 23  max_longest_substring   5000 non-null   float64\n",
      "dtypes: float64(15), int64(7), object(2)\n",
      "memory usage: 976.6+ KB\n"
     ]
    }
   ],
   "source": [
    "kc_train.info()"
   ]
  },
  {
   "cell_type": "code",
   "execution_count": null,
   "metadata": {
    "colab": {
     "base_uri": "https://localhost:8080/",
     "height": 354
    },
    "id": "raG2Im_nj9ap",
    "outputId": "c737b081-d1b8-42af-ba6e-55b749f4d428"
   },
   "outputs": [
    {
     "data": {
      "text/html": [
       "<div>\n",
       "<style scoped>\n",
       "    .dataframe tbody tr th:only-of-type {\n",
       "        vertical-align: middle;\n",
       "    }\n",
       "\n",
       "    .dataframe tbody tr th {\n",
       "        vertical-align: top;\n",
       "    }\n",
       "\n",
       "    .dataframe thead th {\n",
       "        text-align: right;\n",
       "    }\n",
       "</style>\n",
       "<table border=\"1\" class=\"dataframe\">\n",
       "  <thead>\n",
       "    <tr style=\"text-align: right;\">\n",
       "      <th></th>\n",
       "      <th>question1</th>\n",
       "      <th>question2</th>\n",
       "      <th>is_duplicate</th>\n",
       "      <th>common_words_ratio</th>\n",
       "      <th>common_tokens_ratio</th>\n",
       "      <th>fuzz_partial_ratio</th>\n",
       "      <th>min_longest_substring</th>\n",
       "      <th>unique_words_count</th>\n",
       "      <th>common_token_ratio_min</th>\n",
       "      <th>fuzz_ratio</th>\n",
       "      <th>abs_len_difference</th>\n",
       "      <th>common_stop_words_min</th>\n",
       "      <th>common_nouns_min</th>\n",
       "      <th>mean_len</th>\n",
       "      <th>common_stop_words_max</th>\n",
       "      <th>common_nouns_max</th>\n",
       "      <th>ratio_len_qn</th>\n",
       "      <th>common_word_ratio_max</th>\n",
       "      <th>common_adjectives_max</th>\n",
       "      <th>fuzz_token_set_ratio</th>\n",
       "      <th>common_words_ratio_min</th>\n",
       "      <th>common_adjectives_min</th>\n",
       "      <th>fuzz_token_sort_ratio</th>\n",
       "      <th>max_longest_substring</th>\n",
       "    </tr>\n",
       "  </thead>\n",
       "  <tbody>\n",
       "    <tr>\n",
       "      <th>58907</th>\n",
       "      <td>how do i tell if i am an intp or intj</td>\n",
       "      <td>how can i tell if i am an intp or intj</td>\n",
       "      <td>1</td>\n",
       "      <td>0.450000</td>\n",
       "      <td>0.9000</td>\n",
       "      <td>92</td>\n",
       "      <td>0.837838</td>\n",
       "      <td>9</td>\n",
       "      <td>0.081081</td>\n",
       "      <td>93</td>\n",
       "      <td>1</td>\n",
       "      <td>0.545455</td>\n",
       "      <td>0.181818</td>\n",
       "      <td>11.0</td>\n",
       "      <td>0.545455</td>\n",
       "      <td>0.181818</td>\n",
       "      <td>0.973684</td>\n",
       "      <td>0.394737</td>\n",
       "      <td>0.026316</td>\n",
       "      <td>96</td>\n",
       "      <td>0.9000</td>\n",
       "      <td>0.027027</td>\n",
       "      <td>93</td>\n",
       "      <td>0.815789</td>\n",
       "    </tr>\n",
       "    <tr>\n",
       "      <th>316740</th>\n",
       "      <td>where should you rent an apartment in bangalor...</td>\n",
       "      <td>where should someone rent an apartment in bang...</td>\n",
       "      <td>1</td>\n",
       "      <td>0.406250</td>\n",
       "      <td>0.8125</td>\n",
       "      <td>81</td>\n",
       "      <td>0.355556</td>\n",
       "      <td>13</td>\n",
       "      <td>0.077778</td>\n",
       "      <td>81</td>\n",
       "      <td>5</td>\n",
       "      <td>0.375000</td>\n",
       "      <td>0.125000</td>\n",
       "      <td>17.0</td>\n",
       "      <td>0.333333</td>\n",
       "      <td>0.111111</td>\n",
       "      <td>1.055556</td>\n",
       "      <td>0.231579</td>\n",
       "      <td>0.000000</td>\n",
       "      <td>93</td>\n",
       "      <td>0.8125</td>\n",
       "      <td>0.000000</td>\n",
       "      <td>86</td>\n",
       "      <td>0.336842</td>\n",
       "    </tr>\n",
       "    <tr>\n",
       "      <th>88436</th>\n",
       "      <td>how can i describe myself</td>\n",
       "      <td>how would i describe myself in 3 words</td>\n",
       "      <td>0</td>\n",
       "      <td>0.307692</td>\n",
       "      <td>0.5000</td>\n",
       "      <td>80</td>\n",
       "      <td>0.720000</td>\n",
       "      <td>4</td>\n",
       "      <td>0.040000</td>\n",
       "      <td>70</td>\n",
       "      <td>13</td>\n",
       "      <td>0.600000</td>\n",
       "      <td>0.000000</td>\n",
       "      <td>6.5</td>\n",
       "      <td>0.375000</td>\n",
       "      <td>0.000000</td>\n",
       "      <td>0.657895</td>\n",
       "      <td>0.421053</td>\n",
       "      <td>0.000000</td>\n",
       "      <td>91</td>\n",
       "      <td>0.8000</td>\n",
       "      <td>0.000000</td>\n",
       "      <td>70</td>\n",
       "      <td>0.473684</td>\n",
       "    </tr>\n",
       "  </tbody>\n",
       "</table>\n",
       "</div>"
      ],
      "text/plain": [
       "                                                question1  ... max_longest_substring\n",
       "58907               how do i tell if i am an intp or intj  ...              0.815789\n",
       "316740  where should you rent an apartment in bangalor...  ...              0.336842\n",
       "88436                           how can i describe myself  ...              0.473684\n",
       "\n",
       "[3 rows x 24 columns]"
      ]
     },
     "execution_count": 10,
     "metadata": {},
     "output_type": "execute_result"
    }
   ],
   "source": [
    "kc_train.head(3)"
   ]
  },
  {
   "cell_type": "code",
   "execution_count": null,
   "metadata": {
    "colab": {
     "base_uri": "https://localhost:8080/",
     "height": 297
    },
    "id": "3WtH78dkjuT1",
    "outputId": "2f8af78d-5068-43fa-ed04-f570b3954031"
   },
   "outputs": [
    {
     "data": {
      "text/plain": [
       "<matplotlib.axes._subplots.AxesSubplot at 0x7fe37341f250>"
      ]
     },
     "execution_count": 70,
     "metadata": {},
     "output_type": "execute_result"
    },
    {
     "data": {
      "image/png": "[encoded data removed]",
      "text/plain": [
       "<Figure size 432x288 with 1 Axes>"
      ]
     },
     "metadata": {
      "needs_background": "light"
     },
     "output_type": "display_data"
    }
   ],
   "source": [
    "sns.countplot(x = 'is_duplicate', data = kc_train, palette = ['salmon', 'mistyrose'])"
   ]
  },
  {
   "cell_type": "markdown",
   "metadata": {
    "id": "pwHfAkwlwreo"
   },
   "source": [
    "## Logistic Regression on 5000 Data"
   ]
  },
  {
   "cell_type": "code",
   "execution_count": null,
   "metadata": {
    "id": "IRrwawuuqaBa"
   },
   "outputs": [],
   "source": [
    "x = kc_train.drop(columns = ['question1', 'question2', 'is_duplicate'], axis = 1)\n",
    "y = kc_train['is_duplicate']"
   ]
  },
  {
   "cell_type": "code",
   "execution_count": null,
   "metadata": {
    "id": "dwRQupMNsN-q"
   },
   "outputs": [],
   "source": [
    "x_train, x_test, y_train, y_test = train_test_split(x, y, test_size = 0.3)"
   ]
  },
  {
   "cell_type": "code",
   "execution_count": null,
   "metadata": {
    "colab": {
     "base_uri": "https://localhost:8080/"
    },
    "id": "GrGqGsPHsehE",
    "outputId": "37e85424-ce04-4d6e-b255-c19c3062b115"
   },
   "outputs": [
    {
     "name": "stderr",
     "output_type": "stream",
     "text": [
      "/usr/local/lib/python3.7/dist-packages/sklearn/linear_model/_logistic.py:940: ConvergenceWarning: lbfgs failed to converge (status=1):\n",
      "STOP: TOTAL NO. of ITERATIONS REACHED LIMIT.\n",
      "\n",
      "Increase the number of iterations (max_iter) or scale the data as shown in:\n",
      "    https://scikit-learn.org/stable/modules/preprocessing.html\n",
      "Please also refer to the documentation for alternative solver options:\n",
      "    https://scikit-learn.org/stable/modules/linear_model.html#logistic-regression\n",
      "  extra_warning_msg=_LOGISTIC_SOLVER_CONVERGENCE_MSG)\n"
     ]
    },
    {
     "data": {
      "text/plain": [
       "LogisticRegression(C=1.0, class_weight=None, dual=False, fit_intercept=True,\n",
       "                   intercept_scaling=1, l1_ratio=None, max_iter=100,\n",
       "                   multi_class='auto', n_jobs=None, penalty='l2',\n",
       "                   random_state=None, solver='lbfgs', tol=0.0001, verbose=0,\n",
       "                   warm_start=False)"
      ]
     },
     "execution_count": 14,
     "metadata": {},
     "output_type": "execute_result"
    }
   ],
   "source": [
    "logreg = LogisticRegression()\n",
    "logreg.fit(x_train, y_train)"
   ]
  },
  {
   "cell_type": "code",
   "execution_count": null,
   "metadata": {
    "colab": {
     "base_uri": "https://localhost:8080/"
    },
    "id": "b9XNkJxsvBkn",
    "outputId": "1c270467-fe95-4550-a257-07e9930f90cc"
   },
   "outputs": [
    {
     "name": "stdout",
     "output_type": "stream",
     "text": [
      "Accuracy of logistic regression classifier on test set: 0.68\n"
     ]
    }
   ],
   "source": [
    "y_pred = logreg.predict(x_test)\n",
    "print('Accuracy of logistic regression classifier on test set: {:.2f}'.format(logreg.score(x_test, y_test)))"
   ]
  },
  {
   "cell_type": "code",
   "execution_count": null,
   "metadata": {
    "colab": {
     "base_uri": "https://localhost:8080/"
    },
    "id": "nq4csJ3_wCgB",
    "outputId": "2a084e5c-24ba-4328-874a-138b6f70224a"
   },
   "outputs": [
    {
     "name": "stdout",
     "output_type": "stream",
     "text": [
      "              precision    recall  f1-score   support\n",
      "\n",
      "           0       0.74      0.79      0.76       967\n",
      "           1       0.56      0.49      0.52       533\n",
      "\n",
      "    accuracy                           0.68      1500\n",
      "   macro avg       0.65      0.64      0.64      1500\n",
      "weighted avg       0.67      0.68      0.67      1500\n",
      "\n"
     ]
    }
   ],
   "source": [
    "print(classification_report(y_test, y_pred))"
   ]
  },
  {
   "cell_type": "markdown",
   "metadata": {
    "id": "dhVeEFUCxrQX"
   },
   "source": [
    "## Logistic Regression on Full Data"
   ]
  },
  {
   "cell_type": "code",
   "execution_count": 3,
   "metadata": {
    "id": "6vk0k3boxu7o"
   },
   "outputs": [],
   "source": [
    "kc_train_full = train_set\n",
    "kc_train_full = kc_train_full.drop(columns = ['Unnamed: 0', 'id', 'qid1', 'qid2'], axis = 1)"
   ]
  },
  {
   "cell_type": "code",
   "execution_count": 4,
   "metadata": {
    "colab": {
     "base_uri": "https://localhost:8080/"
    },
    "id": "05FGILBIyBPo",
    "outputId": "6c0fdccd-b755-44b0-daf9-4fd45b37a3d1"
   },
   "outputs": [
    {
     "name": "stdout",
     "output_type": "stream",
     "text": [
      "<class 'pandas.core.frame.DataFrame'>\n",
      "RangeIndex: 404266 entries, 0 to 404265\n",
      "Data columns (total 24 columns):\n",
      " #   Column                  Non-Null Count   Dtype  \n",
      "---  ------                  --------------   -----  \n",
      " 0   question1               404266 non-null  object \n",
      " 1   question2               404264 non-null  object \n",
      " 2   is_duplicate            404266 non-null  int64  \n",
      " 3   common_words_ratio      404266 non-null  float64\n",
      " 4   common_tokens_ratio     404266 non-null  float64\n",
      " 5   fuzz_partial_ratio      404266 non-null  int64  \n",
      " 6   min_longest_substring   404266 non-null  float64\n",
      " 7   unique_words_count      404266 non-null  int64  \n",
      " 8   common_token_ratio_min  404266 non-null  float64\n",
      " 9   fuzz_ratio              404266 non-null  int64  \n",
      " 10  abs_len_difference      404266 non-null  int64  \n",
      " 11  common_stop_words_min   404266 non-null  float64\n",
      " 12  common_nouns_min        404266 non-null  float64\n",
      " 13  mean_len                404266 non-null  float64\n",
      " 14  common_stop_words_max   404266 non-null  float64\n",
      " 15  common_nouns_max        404266 non-null  float64\n",
      " 16  ratio_len_qn            404266 non-null  float64\n",
      " 17  common_word_ratio_max   404266 non-null  float64\n",
      " 18  common_adjectives_max   404266 non-null  float64\n",
      " 19  fuzz_token_set_ratio    404266 non-null  int64  \n",
      " 20  common_words_ratio_min  404266 non-null  float64\n",
      " 21  common_adjectives_min   404266 non-null  float64\n",
      " 22  fuzz_token_sort_ratio   404266 non-null  int64  \n",
      " 23  max_longest_substring   404266 non-null  float64\n",
      "dtypes: float64(15), int64(7), object(2)\n",
      "memory usage: 74.0+ MB\n"
     ]
    }
   ],
   "source": [
    "kc_train_full.info()"
   ]
  },
  {
   "cell_type": "code",
   "execution_count": 5,
   "metadata": {
    "colab": {
     "base_uri": "https://localhost:8080/",
     "height": 297
    },
    "id": "7r4hQ_eJyGMK",
    "outputId": "22bc1045-fd3f-4caf-d023-cb6fc300ef93"
   },
   "outputs": [
    {
     "data": {
      "text/plain": [
       "<AxesSubplot:xlabel='is_duplicate', ylabel='count'>"
      ]
     },
     "execution_count": 5,
     "metadata": {},
     "output_type": "execute_result"
    },
    {
     "data": {
      "image/png": "[encoded data removed]",
      "text/plain": [
       "<Figure size 432x288 with 1 Axes>"
      ]
     },
     "metadata": {
      "needs_background": "light"
     },
     "output_type": "display_data"
    }
   ],
   "source": [
    "sns.countplot(x = 'is_duplicate', data = kc_train_full, palette = ['salmon', 'mistyrose'])"
   ]
  },
  {
   "cell_type": "code",
   "execution_count": 10,
   "metadata": {
    "colab": {
     "base_uri": "https://localhost:8080/",
     "height": 649
    },
    "id": "ci02jLWXQ_hF",
    "outputId": "137a787b-a72c-4d08-d8dd-4cae3e3bc3a8"
   },
   "outputs": [
    {
     "name": "stderr",
     "output_type": "stream",
     "text": [
      "<ipython-input-10-c5999e7f6cbc>:8: DeprecationWarning: `np.bool` is a deprecated alias for the builtin `bool`. To silence this warning, use `bool` by itself. Doing this will not modify any behavior and is safe. If you specifically wanted the numpy scalar type, use `np.bool_` here.\n",
      "Deprecated in NumPy 1.20; for more details and guidance: https://numpy.org/devdocs/release/1.20.0-notes.html#deprecations\n",
      "  mask = np.zeros_like(corr, dtype=np.bool)\n"
     ]
    },
    {
     "data": {
      "text/plain": [
       "<AxesSubplot:>"
      ]
     },
     "execution_count": 10,
     "metadata": {},
     "output_type": "execute_result"
    },
    {
     "data": {
      "image/png": "[encoded data removed]",
      "text/plain": [
       "<Figure size 720x720 with 2 Axes>"
      ]
     },
     "metadata": {},
     "output_type": "display_data"
    }
   ],
   "source": [
    "## Correlation Matrix\n",
    "sns.set(style=\"white\")\n",
    "\n",
    "# Compute the correlation matrix\n",
    "corr = kc_train_full.drop(columns = ['is_duplicate'], axis = 1).corr()\n",
    "\n",
    "# Generate a mask for the upper triangle\n",
    "mask = np.zeros_like(corr, dtype=np.bool)\n",
    "mask[np.triu_indices_from(mask)] = True\n",
    "\n",
    "# Set up the matplotlib figure\n",
    "f, ax = plt.subplots(figsize=(10, 10))\n",
    "\n",
    "# Generate a custom diverging colormap\n",
    "cmap = sns.diverging_palette(220, 10, as_cmap=True)\n",
    "\n",
    "# Draw the heatmap with the mask and correct aspect ratio\n",
    "sns.heatmap(corr, mask=mask, cmap=cmap, vmax=.3, center=0,\n",
    "            square=True, linewidths=.5, cbar_kws={\"shrink\": .5})"
   ]
  },
  {
   "cell_type": "code",
   "execution_count": 11,
   "metadata": {
    "id": "GjJoHO-9yQXS"
   },
   "outputs": [],
   "source": [
    "x_full = kc_train_full.drop(columns = ['question1', 'question2', 'is_duplicate'], axis = 1)\n",
    "y_full = kc_train_full['is_duplicate']"
   ]
  },
  {
   "cell_type": "code",
   "execution_count": 14,
   "metadata": {
    "id": "gy4vSNzbyXrK"
   },
   "outputs": [],
   "source": [
    "x_train_full, x_test_full, y_train_full, y_test_full = train_test_split(x_full, y_full, test_size = 0.3)"
   ]
  },
  {
   "cell_type": "code",
   "execution_count": 15,
   "metadata": {
    "colab": {
     "base_uri": "https://localhost:8080/"
    },
    "id": "c8-P-cTdygO2",
    "outputId": "7f6d0ca4-4cc0-4a29-9025-36ca607b7844"
   },
   "outputs": [
    {
     "name": "stderr",
     "output_type": "stream",
     "text": [
      "/usr/local/lib/python3.7/dist-packages/sklearn/linear_model/_logistic.py:818: ConvergenceWarning: lbfgs failed to converge (status=1):\n",
      "STOP: TOTAL NO. of ITERATIONS REACHED LIMIT.\n",
      "\n",
      "Increase the number of iterations (max_iter) or scale the data as shown in:\n",
      "    https://scikit-learn.org/stable/modules/preprocessing.html\n",
      "Please also refer to the documentation for alternative solver options:\n",
      "    https://scikit-learn.org/stable/modules/linear_model.html#logistic-regression\n",
      "  extra_warning_msg=_LOGISTIC_SOLVER_CONVERGENCE_MSG,\n"
     ]
    },
    {
     "data": {
      "text/plain": [
       "LogisticRegression(random_state=42)"
      ]
     },
     "execution_count": 15,
     "metadata": {},
     "output_type": "execute_result"
    }
   ],
   "source": [
    "logreg = LogisticRegression(random_state = 42)\n",
    "logreg.fit(x_train_full, y_train_full)"
   ]
  },
  {
   "cell_type": "code",
   "execution_count": 16,
   "metadata": {
    "colab": {
     "base_uri": "https://localhost:8080/"
    },
    "id": "UQqWcKOVypkH",
    "outputId": "f6345135-ceea-4fdc-9153-691ab92e78bf"
   },
   "outputs": [
    {
     "name": "stdout",
     "output_type": "stream",
     "text": [
      "accuracy 0.6847542875989446\n",
      "precision 0.5846457210464047\n",
      "recall 0.4977838467048711\n",
      "f1 0.5377295754893783\n"
     ]
    }
   ],
   "source": [
    "y_pred_full = logreg.predict(x_test_full)\n",
    "print(\"accuracy\", accuracy_score(y_test_full, y_pred_full))\n",
    "print(\"precision\", precision_score(y_test_full, y_pred_full)) \n",
    "print(\"recall\", recall_score(y_test_full, y_pred_full)) \n",
    "print(\"f1\", f1_score(y_test_full, y_pred_full))"
   ]
  },
  {
   "cell_type": "code",
   "execution_count": 17,
   "metadata": {
    "colab": {
     "base_uri": "https://localhost:8080/"
    },
    "id": "bwYjLO25y5JR",
    "outputId": "0e8d5f2d-bd99-4864-d2a4-b7f98017455a"
   },
   "outputs": [
    {
     "name": "stdout",
     "output_type": "stream",
     "text": [
      "              precision    recall  f1-score   support\n",
      "\n",
      "           0       0.73      0.79      0.76     76608\n",
      "           1       0.58      0.50      0.54     44672\n",
      "\n",
      "    accuracy                           0.68    121280\n",
      "   macro avg       0.66      0.65      0.65    121280\n",
      "weighted avg       0.68      0.68      0.68    121280\n",
      "\n"
     ]
    }
   ],
   "source": [
    "print(classification_report(y_test_full, y_pred_full))"
   ]
  },
  {
   "cell_type": "markdown",
   "metadata": {
    "id": "Y5-22HRuaM6q"
   },
   "source": [
    "## Undersample Imbalanced Class"
   ]
  },
  {
   "cell_type": "code",
   "execution_count": 12,
   "metadata": {
    "id": "EoWQ8kz_bAG4"
   },
   "outputs": [],
   "source": [
    "x_train_under, x_test_under, y_train_under, y_test_under = train_test_split(x_full, y_full, test_size = 0.3, random_state = 42)"
   ]
  },
  {
   "cell_type": "code",
   "execution_count": 13,
   "metadata": {
    "id": "uDKD5EQQbOH5"
   },
   "outputs": [],
   "source": [
    "undersample = RandomUnderSampler(sampling_strategy = 1, replacement = True)"
   ]
  },
  {
   "cell_type": "code",
   "execution_count": 14,
   "metadata": {
    "id": "-FrNTPLSbvTu"
   },
   "outputs": [],
   "source": [
    "x_train_under, y_train_under = undersample.fit_resample(x_train_under, y_train_under)"
   ]
  },
  {
   "cell_type": "code",
   "execution_count": 15,
   "metadata": {
    "colab": {
     "base_uri": "https://localhost:8080/"
    },
    "id": "QshdcM6bcp60",
    "outputId": "93e6cdd8-9153-4977-8838-a4c62aa2b158"
   },
   "outputs": [
    {
     "name": "stdout",
     "output_type": "stream",
     "text": [
      "Counter({0: 104667, 1: 104667})\n"
     ]
    }
   ],
   "source": [
    "from collections import Counter\n",
    "print(Counter(y_train_under))"
   ]
  },
  {
   "cell_type": "code",
   "execution_count": 16,
   "metadata": {
    "colab": {
     "base_uri": "https://localhost:8080/"
    },
    "id": "CXzwORxTet9d",
    "outputId": "4d82e119-fb56-4eb5-a50f-29004aa17ba7"
   },
   "outputs": [
    {
     "name": "stderr",
     "output_type": "stream",
     "text": [
      "/Users/Angelina_KC/opt/anaconda3/lib/python3.8/site-packages/sklearn/linear_model/_logistic.py:763: ConvergenceWarning: lbfgs failed to converge (status=1):\n",
      "STOP: TOTAL NO. of ITERATIONS REACHED LIMIT.\n",
      "\n",
      "Increase the number of iterations (max_iter) or scale the data as shown in:\n",
      "    https://scikit-learn.org/stable/modules/preprocessing.html\n",
      "Please also refer to the documentation for alternative solver options:\n",
      "    https://scikit-learn.org/stable/modules/linear_model.html#logistic-regression\n",
      "  n_iter_i = _check_optimize_result(\n"
     ]
    },
    {
     "data": {
      "text/plain": [
       "LogisticRegression()"
      ]
     },
     "execution_count": 16,
     "metadata": {},
     "output_type": "execute_result"
    }
   ],
   "source": [
    "logreg.fit(x_train_under, y_train_under)"
   ]
  },
  {
   "cell_type": "code",
   "execution_count": 17,
   "metadata": {
    "colab": {
     "base_uri": "https://localhost:8080/"
    },
    "id": "fpoGPUnkgN5o",
    "outputId": "d0dc00e5-61f3-45ab-d3b9-0ed856288310"
   },
   "outputs": [
    {
     "name": "stdout",
     "output_type": "stream",
     "text": [
      "accuracy 0.6764099604221636\n",
      "precision 0.5422129660308295\n",
      "recall 0.7706072293479236\n",
      "f1 0.6365429674838161\n"
     ]
    }
   ],
   "source": [
    "y_pred_under = logreg.predict(x_test_under)\n",
    "print(\"accuracy\", accuracy_score(y_test_under, y_pred_under))\n",
    "print(\"precision\", precision_score(y_test_under, y_pred_under)) \n",
    "print(\"recall\", recall_score(y_test_under, y_pred_under)) \n",
    "print(\"f1\", f1_score(y_test_under, y_pred_under))"
   ]
  },
  {
   "cell_type": "code",
   "execution_count": 18,
   "metadata": {
    "colab": {
     "base_uri": "https://localhost:8080/"
    },
    "id": "Ta8kKeHCggqe",
    "outputId": "ac0c3a2b-d412-48af-c5b5-8d28917de860"
   },
   "outputs": [
    {
     "name": "stdout",
     "output_type": "stream",
     "text": [
      "              precision    recall  f1-score   support\n",
      "\n",
      "           0       0.82      0.62      0.71     76684\n",
      "           1       0.54      0.77      0.64     44596\n",
      "\n",
      "    accuracy                           0.68    121280\n",
      "   macro avg       0.68      0.70      0.67    121280\n",
      "weighted avg       0.72      0.68      0.68    121280\n",
      "\n"
     ]
    }
   ],
   "source": [
    "print(classification_report(y_test_under, y_pred_under))"
   ]
  },
  {
   "cell_type": "markdown",
   "metadata": {
    "id": "vT5Qdl07zjhn"
   },
   "source": [
    "## Cross Validation"
   ]
  },
  {
   "cell_type": "code",
   "execution_count": 19,
   "metadata": {
    "colab": {
     "base_uri": "https://localhost:8080/"
    },
    "id": "P4RFZm9yzluz",
    "outputId": "6d1722b0-40e6-4c42-ffea-5364aced78e0"
   },
   "outputs": [
    {
     "name": "stdout",
     "output_type": "stream",
     "text": [
      "Mean 5-Fold Accuracy: 0.6789825197889182\n"
     ]
    }
   ],
   "source": [
    "cv_scores = cross_val_score(logreg, x_test_under, y_test_under, scoring = 'accuracy', cv = 5, n_jobs = -1)\n",
    "print(\"Mean 5-Fold Accuracy: {}\".format(np.mean(cv_scores)))"
   ]
  },
  {
   "cell_type": "code",
   "execution_count": 20,
   "metadata": {
    "colab": {
     "base_uri": "https://localhost:8080/"
    },
    "id": "aQEKC5f_6luT",
    "outputId": "719962f9-8257-4e6b-bbce-5010895ed7bc"
   },
   "outputs": [
    {
     "name": "stdout",
     "output_type": "stream",
     "text": [
      "[0.68156332 0.66915402 0.67987302 0.68255277 0.68176946]\n"
     ]
    }
   ],
   "source": [
    "print(cv_scores)"
   ]
  },
  {
   "cell_type": "markdown",
   "metadata": {
    "id": "vaupZm_I1FkY"
   },
   "source": [
    "## Hyperparameter Tuning with RandomSearchCV"
   ]
  },
  {
   "cell_type": "code",
   "execution_count": 32,
   "metadata": {},
   "outputs": [
    {
     "data": {
      "text/plain": [
       "StandardScaler()"
      ]
     },
     "execution_count": 32,
     "metadata": {},
     "output_type": "execute_result"
    }
   ],
   "source": [
    "scaler = preprocessing.StandardScaler()\n",
    "scaler.fit(x_train_under)"
   ]
  },
  {
   "cell_type": "code",
   "execution_count": 37,
   "metadata": {},
   "outputs": [],
   "source": [
    "x_train_under = scaler.transform(x_train_under)\n",
    "x_test_under = scaler.transform(x_test_under)"
   ]
  },
  {
   "cell_type": "code",
   "execution_count": 47,
   "metadata": {
    "id": "InJecqTPHgG5"
   },
   "outputs": [],
   "source": [
    "params = dict()\n",
    "params['solver'] = ['sag', 'saga']\n",
    "params['penalty'] = ['none', 'l1', 'l2', 'elasticnet']\n",
    "#params['C'] = [1e-5, 1e-4, 1e-3, 1e-2, 1e-1, 1, 10, 100]"
   ]
  },
  {
   "cell_type": "code",
   "execution_count": 48,
   "metadata": {
    "id": "MvlRGz7FH6cc"
   },
   "outputs": [],
   "source": [
    "#cv = RepeatedStratifiedKFold(n_splits = 10, n_repeats = 3, random_state = 1)\n",
    "search = RandomizedSearchCV(logreg, params, n_iter = 20, scoring = 'accuracy', n_jobs = -1, cv = 5)"
   ]
  },
  {
   "cell_type": "code",
   "execution_count": 49,
   "metadata": {
    "colab": {
     "base_uri": "https://localhost:8080/",
     "height": 361
    },
    "id": "2i_J8Lp5IZuc",
    "outputId": "011536df-c066-4b59-c2f1-67db8a06d1fd"
   },
   "outputs": [
    {
     "name": "stderr",
     "output_type": "stream",
     "text": [
      "/Users/Angelina_KC/opt/anaconda3/lib/python3.8/site-packages/sklearn/model_selection/_search.py:285: UserWarning: The total space of parameters 8 is smaller than n_iter=20. Running 8 iterations. For exhaustive searches, use GridSearchCV.\n",
      "  warnings.warn(\n",
      "/Users/Angelina_KC/opt/anaconda3/lib/python3.8/site-packages/sklearn/model_selection/_search.py:918: UserWarning: One or more of the test scores are non-finite: [0.68389273 0.68322872        nan 0.68322872 0.68386885 0.68321439\n",
      "        nan        nan]\n",
      "  warnings.warn(\n",
      "/Users/Angelina_KC/opt/anaconda3/lib/python3.8/site-packages/sklearn/linear_model/_sag.py:328: ConvergenceWarning: The max_iter was reached which means the coef_ did not converge\n",
      "  warnings.warn(\"The max_iter was reached which means \"\n"
     ]
    }
   ],
   "source": [
    "results = search.fit(x_train_under, y_train_under)"
   ]
  },
  {
   "cell_type": "code",
   "execution_count": 50,
   "metadata": {
    "scrolled": true
   },
   "outputs": [
    {
     "data": {
      "text/plain": [
       "{'solver': 'sag', 'penalty': 'none'}"
      ]
     },
     "execution_count": 50,
     "metadata": {},
     "output_type": "execute_result"
    }
   ],
   "source": [
    "results.best_params_"
   ]
  },
  {
   "cell_type": "code",
   "execution_count": 51,
   "metadata": {},
   "outputs": [],
   "source": [
    "model = results.best_estimator_"
   ]
  },
  {
   "cell_type": "code",
   "execution_count": 52,
   "metadata": {},
   "outputs": [
    {
     "name": "stdout",
     "output_type": "stream",
     "text": [
      "accuracy 0.6519624010554089\n",
      "precision 0.5164660740904323\n",
      "recall 0.8390662839716566\n",
      "f1 0.6393787164240311\n"
     ]
    }
   ],
   "source": [
    "y_pred_under = model.predict(x_test_under)\n",
    "print(\"accuracy\", accuracy_score(y_test_under, y_pred_under))\n",
    "print(\"precision\", precision_score(y_test_under, y_pred_under)) \n",
    "print(\"recall\", recall_score(y_test_under, y_pred_under)) \n",
    "print(\"f1\", f1_score(y_test_under, y_pred_under))"
   ]
  },
  {
   "cell_type": "markdown",
   "metadata": {
    "id": "ZBMiPjnk5msh"
   },
   "source": [
    "## RFE"
   ]
  },
  {
   "cell_type": "code",
   "execution_count": null,
   "metadata": {
    "colab": {
     "base_uri": "https://localhost:8080/"
    },
    "id": "-TU-yAEF1WlK",
    "outputId": "0c216e6b-aa47-4b09-d124-0012fbc5d35d"
   },
   "outputs": [
    {
     "name": "stderr",
     "output_type": "stream",
     "text": [
      "/usr/local/lib/python3.7/dist-packages/sklearn/linear_model/_logistic.py:940: ConvergenceWarning: lbfgs failed to converge (status=1):\n",
      "STOP: TOTAL NO. of ITERATIONS REACHED LIMIT.\n",
      "\n",
      "Increase the number of iterations (max_iter) or scale the data as shown in:\n",
      "    https://scikit-learn.org/stable/modules/preprocessing.html\n",
      "Please also refer to the documentation for alternative solver options:\n",
      "    https://scikit-learn.org/stable/modules/linear_model.html#logistic-regression\n",
      "  extra_warning_msg=_LOGISTIC_SOLVER_CONVERGENCE_MSG)\n",
      "/usr/local/lib/python3.7/dist-packages/sklearn/linear_model/_logistic.py:940: ConvergenceWarning: lbfgs failed to converge (status=1):\n",
      "STOP: TOTAL NO. of ITERATIONS REACHED LIMIT.\n",
      "\n",
      "Increase the number of iterations (max_iter) or scale the data as shown in:\n",
      "    https://scikit-learn.org/stable/modules/preprocessing.html\n",
      "Please also refer to the documentation for alternative solver options:\n",
      "    https://scikit-learn.org/stable/modules/linear_model.html#logistic-regression\n",
      "  extra_warning_msg=_LOGISTIC_SOLVER_CONVERGENCE_MSG)\n",
      "/usr/local/lib/python3.7/dist-packages/sklearn/linear_model/_logistic.py:940: ConvergenceWarning: lbfgs failed to converge (status=1):\n",
      "STOP: TOTAL NO. of ITERATIONS REACHED LIMIT.\n",
      "\n",
      "Increase the number of iterations (max_iter) or scale the data as shown in:\n",
      "    https://scikit-learn.org/stable/modules/preprocessing.html\n",
      "Please also refer to the documentation for alternative solver options:\n",
      "    https://scikit-learn.org/stable/modules/linear_model.html#logistic-regression\n",
      "  extra_warning_msg=_LOGISTIC_SOLVER_CONVERGENCE_MSG)\n",
      "/usr/local/lib/python3.7/dist-packages/sklearn/linear_model/_logistic.py:940: ConvergenceWarning: lbfgs failed to converge (status=1):\n",
      "STOP: TOTAL NO. of ITERATIONS REACHED LIMIT.\n",
      "\n",
      "Increase the number of iterations (max_iter) or scale the data as shown in:\n",
      "    https://scikit-learn.org/stable/modules/preprocessing.html\n",
      "Please also refer to the documentation for alternative solver options:\n",
      "    https://scikit-learn.org/stable/modules/linear_model.html#logistic-regression\n",
      "  extra_warning_msg=_LOGISTIC_SOLVER_CONVERGENCE_MSG)\n",
      "/usr/local/lib/python3.7/dist-packages/sklearn/linear_model/_logistic.py:940: ConvergenceWarning: lbfgs failed to converge (status=1):\n",
      "STOP: TOTAL NO. of ITERATIONS REACHED LIMIT.\n",
      "\n",
      "Increase the number of iterations (max_iter) or scale the data as shown in:\n",
      "    https://scikit-learn.org/stable/modules/preprocessing.html\n",
      "Please also refer to the documentation for alternative solver options:\n",
      "    https://scikit-learn.org/stable/modules/linear_model.html#logistic-regression\n",
      "  extra_warning_msg=_LOGISTIC_SOLVER_CONVERGENCE_MSG)\n",
      "/usr/local/lib/python3.7/dist-packages/sklearn/linear_model/_logistic.py:940: ConvergenceWarning: lbfgs failed to converge (status=1):\n",
      "STOP: TOTAL NO. of ITERATIONS REACHED LIMIT.\n",
      "\n",
      "Increase the number of iterations (max_iter) or scale the data as shown in:\n",
      "    https://scikit-learn.org/stable/modules/preprocessing.html\n",
      "Please also refer to the documentation for alternative solver options:\n",
      "    https://scikit-learn.org/stable/modules/linear_model.html#logistic-regression\n",
      "  extra_warning_msg=_LOGISTIC_SOLVER_CONVERGENCE_MSG)\n",
      "/usr/local/lib/python3.7/dist-packages/sklearn/linear_model/_logistic.py:940: ConvergenceWarning: lbfgs failed to converge (status=1):\n",
      "STOP: TOTAL NO. of ITERATIONS REACHED LIMIT.\n",
      "\n",
      "Increase the number of iterations (max_iter) or scale the data as shown in:\n",
      "    https://scikit-learn.org/stable/modules/preprocessing.html\n",
      "Please also refer to the documentation for alternative solver options:\n",
      "    https://scikit-learn.org/stable/modules/linear_model.html#logistic-regression\n",
      "  extra_warning_msg=_LOGISTIC_SOLVER_CONVERGENCE_MSG)\n",
      "/usr/local/lib/python3.7/dist-packages/sklearn/linear_model/_logistic.py:940: ConvergenceWarning: lbfgs failed to converge (status=1):\n",
      "STOP: TOTAL NO. of ITERATIONS REACHED LIMIT.\n",
      "\n",
      "Increase the number of iterations (max_iter) or scale the data as shown in:\n",
      "    https://scikit-learn.org/stable/modules/preprocessing.html\n",
      "Please also refer to the documentation for alternative solver options:\n",
      "    https://scikit-learn.org/stable/modules/linear_model.html#logistic-regression\n",
      "  extra_warning_msg=_LOGISTIC_SOLVER_CONVERGENCE_MSG)\n",
      "/usr/local/lib/python3.7/dist-packages/sklearn/linear_model/_logistic.py:940: ConvergenceWarning: lbfgs failed to converge (status=1):\n",
      "STOP: TOTAL NO. of ITERATIONS REACHED LIMIT.\n",
      "\n",
      "Increase the number of iterations (max_iter) or scale the data as shown in:\n",
      "    https://scikit-learn.org/stable/modules/preprocessing.html\n",
      "Please also refer to the documentation for alternative solver options:\n",
      "    https://scikit-learn.org/stable/modules/linear_model.html#logistic-regression\n",
      "  extra_warning_msg=_LOGISTIC_SOLVER_CONVERGENCE_MSG)\n",
      "/usr/local/lib/python3.7/dist-packages/sklearn/linear_model/_logistic.py:940: ConvergenceWarning: lbfgs failed to converge (status=1):\n",
      "STOP: TOTAL NO. of ITERATIONS REACHED LIMIT.\n",
      "\n",
      "Increase the number of iterations (max_iter) or scale the data as shown in:\n",
      "    https://scikit-learn.org/stable/modules/preprocessing.html\n",
      "Please also refer to the documentation for alternative solver options:\n",
      "    https://scikit-learn.org/stable/modules/linear_model.html#logistic-regression\n",
      "  extra_warning_msg=_LOGISTIC_SOLVER_CONVERGENCE_MSG)\n",
      "/usr/local/lib/python3.7/dist-packages/sklearn/linear_model/_logistic.py:940: ConvergenceWarning: lbfgs failed to converge (status=1):\n",
      "STOP: TOTAL NO. of ITERATIONS REACHED LIMIT.\n",
      "\n",
      "Increase the number of iterations (max_iter) or scale the data as shown in:\n",
      "    https://scikit-learn.org/stable/modules/preprocessing.html\n",
      "Please also refer to the documentation for alternative solver options:\n",
      "    https://scikit-learn.org/stable/modules/linear_model.html#logistic-regression\n",
      "  extra_warning_msg=_LOGISTIC_SOLVER_CONVERGENCE_MSG)\n"
     ]
    },
    {
     "name": "stdout",
     "output_type": "stream",
     "text": [
      "[False  True False  True False  True False False  True False False  True\n",
      "  True  True  True False False  True False False  True]\n",
      "[ 8  1 12  1  2  1  7  9  1  4  3  1  1  1  1  6  5  1 11 10  1]\n"
     ]
    },
    {
     "data": {
      "text/plain": [
       "Index(['common_tokens_ratio', 'min_longest_substring',\n",
       "       'common_token_ratio_min', 'common_stop_words_min',\n",
       "       'common_stop_words_max', 'common_nouns_max', 'ratio_len_qn',\n",
       "       'common_word_ratio_max', 'common_words_ratio_min',\n",
       "       'max_longest_substring'],\n",
       "      dtype='object')"
      ]
     },
     "execution_count": 62,
     "metadata": {},
     "output_type": "execute_result"
    }
   ],
   "source": [
    "# Select best feature\n",
    "rfe = RFE(logreg, n_features_to_select = None)\n",
    "rfe = rfe.fit(x_train_full, y_train_full)\n",
    "\n",
    "# Summarize the selection of the attributes\n",
    "print(rfe.support_)\n",
    "print(rfe.ranking_)\n",
    "x_train_full.columns[rfe.support_]"
   ]
  },
  {
   "cell_type": "code",
   "execution_count": null,
   "metadata": {
    "id": "cHy6CwubVmWJ"
   },
   "outputs": [],
   "source": [
    "rfe_feats = x_train_full[x_train_full.columns[rfe.support_]]"
   ]
  },
  {
   "cell_type": "code",
   "execution_count": null,
   "metadata": {
    "colab": {
     "base_uri": "https://localhost:8080/",
     "height": 649
    },
    "id": "qSbStgzrRoBp",
    "outputId": "7190c2c7-6f18-491c-90fa-9896d8a840b0"
   },
   "outputs": [
    {
     "data": {
      "text/plain": [
       "<matplotlib.axes._subplots.AxesSubplot at 0x7fe37190a750>"
      ]
     },
     "execution_count": 78,
     "metadata": {},
     "output_type": "execute_result"
    },
    {
     "data": {
      "image/png": "[encoded data removed]",
      "text/plain": [
       "<Figure size 720x720 with 2 Axes>"
      ]
     },
     "metadata": {},
     "output_type": "display_data"
    }
   ],
   "source": [
    "## Correlation Matrix\n",
    "sns.set(style=\"white\")\n",
    "\n",
    "# Compute the correlation matrix\n",
    "corr = rfe_feats.corr()\n",
    "\n",
    "# Generate a mask for the upper triangle\n",
    "mask = np.zeros_like(corr, dtype=np.bool)\n",
    "mask[np.triu_indices_from(mask)] = True\n",
    "\n",
    "# Set up the matplotlib figure\n",
    "f, ax = plt.subplots(figsize=(10, 10))\n",
    "\n",
    "# Generate a custom diverging colormap\n",
    "cmap = sns.diverging_palette(220, 10, as_cmap=True)\n",
    "\n",
    "# Draw the heatmap with the mask and correct aspect ratio\n",
    "sns.heatmap(corr, mask=mask, cmap=cmap, vmax=.3, center=0,\n",
    "            square=True, linewidths=.5, cbar_kws={\"shrink\": .5})"
   ]
  },
  {
   "cell_type": "code",
   "execution_count": null,
   "metadata": {
    "colab": {
     "base_uri": "https://localhost:8080/"
    },
    "id": "8YGDK-E3663K",
    "outputId": "c2764a4d-d5fb-4e29-c76a-875b6d22a9c3"
   },
   "outputs": [
    {
     "name": "stdout",
     "output_type": "stream",
     "text": [
      "Accuracy of logistic regression classifier on test set: 0.67\n"
     ]
    }
   ],
   "source": [
    "logreg.fit(rfe_feats, y_train_full)\n",
    "y_pred_full = logreg.predict(x_test_full[x_test_full.columns[rfe.support_]])\n",
    "print('Accuracy of logistic regression classifier on test set: {:.2f}'.format(logreg.score(x_test_full[x_test_full.columns[rfe.support_]], y_test_full)))"
   ]
  },
  {
   "cell_type": "code",
   "execution_count": null,
   "metadata": {
    "colab": {
     "base_uri": "https://localhost:8080/"
    },
    "id": "bVO3iWjL73u6",
    "outputId": "74c3f71a-dfd3-4787-c8cb-7f6219fae26f"
   },
   "outputs": [
    {
     "name": "stdout",
     "output_type": "stream",
     "text": [
      "              precision    recall  f1-score   support\n",
      "\n",
      "           0       0.71      0.80      0.76     76479\n",
      "           1       0.57      0.45      0.50     44801\n",
      "\n",
      "    accuracy                           0.67    121280\n",
      "   macro avg       0.64      0.63      0.63    121280\n",
      "weighted avg       0.66      0.67      0.66    121280\n",
      "\n"
     ]
    }
   ],
   "source": [
    "print(classification_report(y_test_full, y_pred_full))"
   ]
  }
 ],
 "metadata": {
  "colab": {
   "name": "Logistic Regression KC.ipynb",
   "provenance": [],
   "toc_visible": true
  },
  "kernelspec": {
   "display_name": "Python 3",
   "language": "python",
   "name": "python3"
  },
  "language_info": {
   "codemirror_mode": {
    "name": "ipython",
    "version": 3
   },
   "file_extension": ".py",
   "mimetype": "text/x-python",
   "name": "python",
   "nbconvert_exporter": "python",
   "pygments_lexer": "ipython3",
   "version": "3.8.8"
  }
 },
 "nbformat": 4,
 "nbformat_minor": 1
}
